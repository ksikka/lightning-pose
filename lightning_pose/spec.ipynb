{
 "cells": [
  {
   "cell_type": "code",
   "execution_count": null,
   "id": "initial_id",
   "metadata": {
    "collapsed": true
   },
   "outputs": [],
   "source": [
    "# Train a model\n",
    "\n",
    "from lightning_pose import train, Model\n",
    "from lightning_pose.evaluation import pixel_error\n",
    "from lightning_pose.datasets import LabeledFrameDataset, TRAINING_DATASET\n",
    "\n",
    "from lightning_pose.config import ModelConfig\n",
    "model_cfg = ModelConfig.from_yaml(\"/config.yaml\")\n",
    "model = train(model_cfg)\n",
    "\n",
    "# Predict a video\n",
    "video_file = model_dir = \"/\"\n",
    "model = Model.from_dir(model_dir)\n",
    "df = model.predict(video_file)\n",
    "\n",
    "# Evaluate on training frames\n",
    "df = model.predict(TRAINING_DATASET)\n",
    "pedf = pixel_error(df, model.get_training_labels_df())\n",
    "\n",
    "# Evaluate on ood frames\n",
    "ood_ds = LabeledFrameDataset(data_dir=\"/\", csv_file=\"CD_new.csv\", keypoint_names=['x'])\n",
    "\n",
    "df = model.predict(ood_ds)\n",
    "from lightning_pose.metrics import pixel_error\n",
    "pedf = pixel_error(df, ood_ds.get_labels_df())\n",
    "\n",
    "# Higher-level evaluation\n",
    "from lightning_pose import metrics\n",
    "results = model.evaluate()\n"
   ]
  }
 ],
 "metadata": {
  "kernelspec": {
   "display_name": "Python 3",
   "language": "python",
   "name": "python3"
  },
  "language_info": {
   "codemirror_mode": {
    "name": "ipython",
    "version": 2
   },
   "file_extension": ".py",
   "mimetype": "text/x-python",
   "name": "python",
   "nbconvert_exporter": "python",
   "pygments_lexer": "ipython2",
   "version": "2.7.6"
  }
 },
 "nbformat": 4,
 "nbformat_minor": 5
}
